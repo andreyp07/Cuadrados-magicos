{
 "cells": [
  {
   "cell_type": "code",
   "execution_count": 2,
   "metadata": {},
   "outputs": [],
   "source": [
    "%matplotlib inline\n",
    "import matplotlib.pyplot as plt\n",
    "plt.style.use('seaborn-white')\n",
    "import numpy as np"
   ]
  },
  {
   "cell_type": "markdown",
   "metadata": {},
   "source": [
    "### POTENTIAL CONTOUR GRAPH"
   ]
  },
  {
   "cell_type": "code",
   "execution_count": 3,
   "metadata": {},
   "outputs": [],
   "source": [
    "#MODEL\n",
    "\n",
    "def sig(x):\n",
    "    return 1/(1 + np.exp(-x))\n",
    "\n",
    "class Matrix:\n",
    "    def __init__(self,n,val):\n",
    "        \"\"\"\n",
    "        creates scheme/grid for nxn matrix with the origin at the center\n",
    "        val = list-style matrix of charges\n",
    "        \"\"\"\n",
    "        self.dim = n\n",
    "        self.positions = []\n",
    "        for i in range(n):\n",
    "            self.positions.append([])\n",
    "            for j in range(n):\n",
    "                self.positions[i].append([])\n",
    "                \n",
    "        for i in range(n):\n",
    "            for j in range(n):\n",
    "                self.positions[i][j]= (i,j)\n",
    "        \n",
    "        self.values = val\n",
    "    \n",
    "    def potential(self,x,y):\n",
    "\n",
    "        def check(x_1,y_1):\n",
    "            # checks if any distance is closer than 1/40 to any charge and in that case does not\n",
    "            # calculate it. This value can be regulated to change the size of the centers of the charges\n",
    "            r = 1/40\n",
    "            for i in range(self.dim):\n",
    "                for j in range(self.dim):\n",
    "                    (c_x, c_y)= self.positions[i][j]\n",
    "                    dist = (x_1-c_x)**2 + (y_1-c_y)**2\n",
    "                    if dist<r and self.values[i][j]!=0:\n",
    "                        return True\n",
    "        \n",
    "        pot = 0\n",
    "        for i in range(self.dim):\n",
    "            for j in range(self.dim):\n",
    "                (c_x, c_y)= self.positions[i][j]\n",
    "                dist = (x-c_x)**2 + (y-c_y)**2\n",
    "                q = self.values[i][j]\n",
    "                if check(x,y)==True:\n",
    "                    return 1/2\n",
    "                else:\n",
    "                    pot += q/dist\n",
    "        #pot *= 1/(4 * np.pi *8.8541878176*10**(-12))\n",
    "        return sig(pot)\n",
    "        #return pot\n",
    "\n",
    "    def potential_contour(self):\n",
    "        \"\"\"\n",
    "        returns contour list value\n",
    "        \"\"\"\n",
    "        x=np.linspace(-1, self.dim, 40*self.dim)\n",
    "        y=np.linspace(-1, self.dim, 40*self.dim)\n",
    "        X,Y = np.meshgrid(x,y)\n",
    "\n",
    "        z = []; p = -1\n",
    "        for i in x:\n",
    "            z.append([])\n",
    "            p += 1\n",
    "            for j in y:\n",
    "                z[p].append(self.potential(i,j))\n",
    "        return (X,Y,z)\n",
    "        "
   ]
  },
  {
   "cell_type": "markdown",
   "metadata": {},
   "source": [
    "### Examples"
   ]
  },
  {
   "cell_type": "code",
   "execution_count": 4,
   "metadata": {},
   "outputs": [],
   "source": [
    "def paint(X,Y,z,option=1):\n",
    "    \"\"\"\n",
    "    option=1 -> color PRGn\n",
    "    option=2 -> color inferno\n",
    "    option=3 -> color PRGn with manual parameters\n",
    "    option=4 -> color inferno with manual parameters\n",
    "    \"\"\"\n",
    "    if option==1:\n",
    "        plt.contourf(X, Y, z, 20, cmap='PRGn')\n",
    "    elif option==2:\n",
    "        plt.contourf(X, Y, z, 20, cmap='inferno')\n",
    "    elif option==3:\n",
    "        levels = [-2.5,-1.5,-0.5,0,0.5,1,2,2.5]\n",
    "        levels = list(range(-25,-17,)) + list(range(-17,-9,2))+ list(range(-9,-5,1))+ np.arange(-5,0,0.5).tolist() + np.arange(0,5,0.5).tolist()+ list(range(5,9,1))+ list(range(9,17,2))+ list(range(17,26,3))\n",
    "        levels = [0,0.5,0.10,0.15,0.25,0.35,0.40,0.45,0.5,0.55,0.6,0.65,0.75,0.85,0.90,1]\n",
    "        levels = np.arange(0,1.06,0.07).tolist()\n",
    "        plt.contourf(X, Y, z, levels, cmap='PRGn')\n",
    "    elif option==4:\n",
    "        levels = [-2.5,-1.5,-0.5,0,0.5,1,2,2.5]\n",
    "        levels = list(range(-25,-17,)) + list(range(-17,-9,2))+ list(range(-9,-5,1))+ np.arange(-5,0,0.5).tolist() + np.arange(0,5,0.5).tolist()+ list(range(5,9,1))+ list(range(9,17,2))+ list(range(17,26,3))\n",
    "        levels = [0,0.5,0.10,0.15,0.25,0.35,0.40,0.45,0.5,0.55,0.6,0.65,0.75,0.85,0.90,1]\n",
    "        levels = np.arange(0,1.06,0.07).tolist()\n",
    "        plt.contourf(X, Y, z, levels, cmap='inferno')\n",
    "    else:\n",
    "        raise Exception('Non valid option')\n",
    "    plt.colorbar()\n"
   ]
  },
  {
   "cell_type": "code",
   "execution_count": 5,
   "metadata": {},
   "outputs": [
    {
     "data": {
      "image/png": "[encoded data removed]",
      "text/plain": [
       "<Figure size 432x288 with 2 Axes>"
      ]
     },
     "metadata": {},
     "output_type": "display_data"
    }
   ],
   "source": [
    "#4-ATOMS EXAMPLES\n",
    "\n",
    "example1 = [[1,-1,1,1],[-1,-1,-1,-1],[-1,1,0,-1],[1,-1,0,1]]\n",
    "example2 = [[0,0,-1,1],[1,0,0,-1],[0,0,0,0],[-1,0,1,0]]\n",
    "\n",
    "four1 = Matrix(4,example1)\n",
    "X,Y,z = four1.potential_contour()\n",
    "\n",
    "paint(X,Y,z,1)\n"
   ]
  }
 ],
 "metadata": {
  "kernelspec": {
   "display_name": "base",
   "language": "python",
   "name": "python3"
  },
  "language_info": {
   "codemirror_mode": {
    "name": "ipython",
    "version": 3
   },
   "file_extension": ".py",
   "mimetype": "text/x-python",
   "name": "python",
   "nbconvert_exporter": "python",
   "pygments_lexer": "ipython3",
   "version": "3.9.7"
  },
  "orig_nbformat": 4,
  "vscode": {
   "interpreter": {
    "hash": "ff6029df2b53578cdeebe1c8df823e0003e7b9931ef3f9b9bdb50c9a78e368b0"
   }
  }
 },
 "nbformat": 4,
 "nbformat_minor": 2
}
