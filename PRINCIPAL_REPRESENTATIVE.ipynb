{
 "cells": [
  {
   "cell_type": "code",
   "execution_count": 1,
   "metadata": {},
   "outputs": [],
   "source": [
    "from itertools import permutations\n",
    "import sympy as sy"
   ]
  },
  {
   "attachments": {},
   "cell_type": "markdown",
   "metadata": {},
   "source": [
    "El representante principal es la suma de la lista de átomos 'discriminada positivamente'. Es decir, debemos transformar la lista a su versión positiva y solo entonces sumar esa lista. Decimos que un átomo es positivo si su primer elemento no nulo es 1. Imponemos el orden del siguiente modo: primero por el número de la columna y luego por el de la fila. \n",
    "\n",
    "El representante principal es útil para los conjuntos C que verifican que si *a* pertenece a C, entonces *-a* también pertenece a C. \n",
    "\n",
    "A continuación proporcionamos programas que calculan el representante principal de una lista de átomos cualesquiera, programas para calcular la lista de átomos de A_(4,r) y A_(5,r) explícitos y programas para calcular A_(m,r) (este último con el requisito de que el usuario introduzca A_m).\n"
   ]
  },
  {
   "attachments": {},
   "cell_type": "markdown",
   "metadata": {},
   "source": [
    "## Representante principal de lista cualquiera de átomos"
   ]
  },
  {
   "cell_type": "code",
   "execution_count": 2,
   "metadata": {},
   "outputs": [],
   "source": [
    "# VERSIÓN MATRICES SIMPY\n",
    "# En la lista L los átomos vienen en formato SIMPY\n",
    "\n",
    "def positive(atom):\n",
    "    s = sy.shape(atom)[0]\n",
    "    for row in range(s):\n",
    "        for value in range(s):\n",
    "            if atom[row,value]==1:\n",
    "                return True\n",
    "            elif atom[row,value]==-1:\n",
    "                return False\n",
    "\n",
    "\n",
    "def reduce(L):\n",
    "    r_L = []\n",
    "    for atom in L:\n",
    "        if positive(atom)==True:\n",
    "            r_L.append(atom)\n",
    "\n",
    "    return r_L"
   ]
  },
  {
   "cell_type": "code",
   "execution_count": 3,
   "metadata": {},
   "outputs": [
    {
     "name": "stdout",
     "output_type": "stream",
     "text": [
      "[Matrix([\n",
      "[ 1, -1,  0],\n",
      "[-1,  0,  1],\n",
      "[ 0,  1, -1]])]\n"
     ]
    }
   ],
   "source": [
    "# Ejemplos (no todos los elementos de las listas son átomos pero sí contienen 1's, 0's y -1's)\n",
    "\n",
    "L_2 = [sy.Matrix([[1,-1,0],[-1,0,1],[0,1,-1]]), sy.Matrix([[0,-1,0],[-1,0,1],[0,1,-1]]), sy.Matrix([[0,0,0],[-1,0,1],[0,1,-1]])]\n",
    "print(reduce(L_2))\n"
   ]
  },
  {
   "cell_type": "code",
   "execution_count": 4,
   "metadata": {},
   "outputs": [],
   "source": [
    "def repres(L):\n",
    "    \"\"\"\n",
    "    L = lista de átomos; cada átomo en formato matriz simpy\n",
    "    \"\"\"\n",
    "    r_L = reduce(L)\n",
    "    r,c = sy.shape(L[0])\n",
    "    s = sy.Matrix.zeros(r,c)\n",
    "    for a in r_L:\n",
    "        s+=a\n",
    "    return s\n",
    "        "
   ]
  },
  {
   "cell_type": "code",
   "execution_count": 5,
   "metadata": {},
   "outputs": [
    {
     "data": {
      "text/latex": [
       "$\\displaystyle \\left[\\begin{matrix}1 & -1 & 0\\\\-1 & 0 & 1\\\\0 & 1 & -1\\end{matrix}\\right]$"
      ],
      "text/plain": [
       "Matrix([\n",
       "[ 1, -1,  0],\n",
       "[-1,  0,  1],\n",
       "[ 0,  1, -1]])"
      ]
     },
     "execution_count": 5,
     "metadata": {},
     "output_type": "execute_result"
    }
   ],
   "source": [
    "L_2 = [sy.Matrix([[1,-1,0],[-1,0,1],[0,1,-1]]), sy.Matrix([[0,-1,0],[-1,0,1],[0,1,-1]]), sy.Matrix([[0,0,0],[-1,0,1],[0,1,-1]])]\n",
    "repres(L_2)"
   ]
  },
  {
   "attachments": {},
   "cell_type": "markdown",
   "metadata": {},
   "source": [
    "## A_(4,r)"
   ]
  },
  {
   "cell_type": "code",
   "execution_count": 6,
   "metadata": {},
   "outputs": [],
   "source": [
    "# we calculate briefly (for a deeper explanation see ATOM_SEQUENCE) 4-atoms\n",
    "\n",
    "l_1 = [(0,0,0,0)]; l_2 = (1,-1,0,0); l_3 = (1,-1,1,-1); \n",
    "l_2 = list(set(permutations(l_2))); l_3 = list(set(permutations(l_3)))\n",
    "l = l_1 + l_2 + l_3\n",
    "v= [1,-1,0]\n",
    "\n",
    "fours = []\n",
    "a=0\n",
    "for o in l:\n",
    "    for t in l:\n",
    "        for k in l:\n",
    "            a+=1\n",
    "            #print(a/(19**3))\n",
    "            m = sy.Matrix.zeros(4,4)\n",
    "            m[0]=o;m[1]=t;m[2]=k\n",
    "            m[0,3]=-(m[3,0]+m[2,1]+m[1,2])\n",
    "            m[3,3]=-(m[0,0]+m[1,1]+m[2,2])\n",
    "            m[1,3]=-(m[1,0]+m[1,1]+m[1,2])\n",
    "            m[2,3]=-(m[2,0]+m[2,1]+m[2,2])\n",
    "            if m[0,3] in v and m[3,3] in v and m[1,3] in v and m[2,3] in v:\n",
    "                if m*sy.Matrix.ones(4,4)==sy.Matrix.zeros(4,4) and sy.Matrix.ones(4,4)*m==sy.Matrix.zeros(4,4):\n",
    "                    fours.append(m)\n"
   ]
  },
  {
   "cell_type": "code",
   "execution_count": 7,
   "metadata": {},
   "outputs": [],
   "source": [
    "r_four = reduce(fours)\n",
    "\n",
    "def four_repr(z):\n",
    "    # returns representant of list of 4-atoms with z zeros (or 16-z ones and negative ones)\n",
    "\n",
    "    f = []\n",
    "\n",
    "    for a in r_four:\n",
    "        c=0\n",
    "        for i in range(4):\n",
    "            for j in range(4):\n",
    "                if a[i,j]==0:\n",
    "                    c+=1\n",
    "        if c==z:\n",
    "            f.append(a)\n",
    "    \n",
    "    t = sy.Matrix.zeros(4,4)\n",
    "    for e in f:\n",
    "        t += e\n",
    "    return t"
   ]
  },
  {
   "cell_type": "code",
   "execution_count": 8,
   "metadata": {},
   "outputs": [
    {
     "data": {
      "text/latex": [
       "$\\displaystyle \\left[\\begin{matrix}8 & 4 & -4 & -8\\\\-2 & -6 & 6 & 2\\\\-2 & 6 & -6 & 2\\\\-4 & -4 & 4 & 4\\end{matrix}\\right]$"
      ],
      "text/plain": [
       "Matrix([\n",
       "[ 8,  4, -4, -8],\n",
       "[-2, -6,  6,  2],\n",
       "[-2,  6, -6,  2],\n",
       "[-4, -4,  4,  4]])"
      ]
     },
     "execution_count": 8,
     "metadata": {},
     "output_type": "execute_result"
    }
   ],
   "source": [
    "four_repr(6)"
   ]
  },
  {
   "attachments": {},
   "cell_type": "markdown",
   "metadata": {},
   "source": [
    "## A_(5,r)"
   ]
  },
  {
   "cell_type": "code",
   "execution_count": null,
   "metadata": {},
   "outputs": [],
   "source": [
    "# calculamos brevemente los 5-átomos (en más profundidad en ATOM_SEQUENCE)\n",
    "\n",
    "l_1 = [(0,0,0,0,0)]; l_2 = (1,-1,0,0,0); l_3 = (1,-1,1,-1,0); \n",
    "l_2 = list(set(permutations(l_2))); l_3 = list(set(permutations(l_3)))\n",
    "l = l_1 + l_2 + l_3\n",
    "v= [1,-1,0]\n",
    "\n",
    "fifs = []\n",
    "a=0\n",
    "for o in l:\n",
    "    for t in l:\n",
    "        for k in l:\n",
    "            for p in l:\n",
    "                a+=1\n",
    "                if a%10000 == 0:\n",
    "                    print(a/(51**4))\n",
    "                m = sy.Matrix.zeros(5,5)\n",
    "                m[0]=o;m[1]=t;m[2]=k;m[3]=p\n",
    "                m[0,4]=-(m[4,0]+m[3,1]+m[2,2]+m[1,3])\n",
    "                m[4,4]=-(m[0,0]+m[1,1]+m[2,2]+m[3,3])\n",
    "                m[1,4]=-(m[1,0]+m[1,1]+m[1,2]+m[1,3])\n",
    "                m[2,4]=-(m[2,0]+m[2,1]+m[2,2]+m[2,3])\n",
    "                m[3,4]=-(m[3,0]+m[3,1]+m[3,2]+m[3,3])\n",
    "                if m[0,4] in v and m[4,4] in v and m[2,4] in v and m[1,4] in v and m[3,4] in v:\n",
    "                    if m*sy.Matrix.ones(5,5)==sy.Matrix.zeros(5,5) and sy.Matrix.ones(5,5)*m==sy.Matrix.zeros(5,5):\n",
    "                        fifs.append(m)"
   ]
  },
  {
   "cell_type": "code",
   "execution_count": null,
   "metadata": {},
   "outputs": [],
   "source": [
    "r_fifs = reduce(fifs)\n",
    "\n",
    "def five_repr(z):\n",
    "    # returns representant of list of 5-atoms with z zeros (or 25-z ones and negative ones)\n",
    "\n",
    "    f = []\n",
    "\n",
    "    for a in r_fifs:\n",
    "        c=0\n",
    "        for i in range(5):\n",
    "            for j in range(5):\n",
    "                if a[i,j]==0:\n",
    "                    c+=1\n",
    "        if c==z:\n",
    "            f.append(a)\n",
    "    \n",
    "    t = sy.Matrix.zeros(5,5)\n",
    "    for e in f:\n",
    "        t += e\n",
    "    return t"
   ]
  },
  {
   "cell_type": "code",
   "execution_count": null,
   "metadata": {},
   "outputs": [
    {
     "data": {
      "text/latex": [
       "$\\displaystyle \\left[\\begin{matrix}208 & 33 & -85 & -81 & -75\\\\-55 & -84 & 24 & 76 & 39\\\\-61 & -6 & -15 & 27 & 55\\\\-55 & 51 & 26 & -56 & 34\\\\-37 & 6 & 50 & 34 & -53\\end{matrix}\\right]$"
      ],
      "text/plain": [
       "Matrix([\n",
       "[208,  33, -85, -81, -75],\n",
       "[-55, -84,  24,  76,  39],\n",
       "[-61,  -6, -15,  27,  55],\n",
       "[-55,  51,  26, -56,  34],\n",
       "[-37,   6,  50,  34, -53]])"
      ]
     },
     "metadata": {},
     "output_type": "display_data"
    }
   ],
   "source": [
    "five_repr(5)/2"
   ]
  },
  {
   "attachments": {},
   "cell_type": "markdown",
   "metadata": {},
   "source": [
    "## A_(m,r)"
   ]
  },
  {
   "cell_type": "code",
   "execution_count": null,
   "metadata": {},
   "outputs": [],
   "source": [
    "def m_repr(A_m, z):\n",
    "    # returns representant of list of m-atoms with z zeros (or 16-z ones and negative ones)\n",
    "\n",
    "    r_ms = reduce(A_m)\n",
    "\n",
    "    f = []\n",
    "    for a in r_ms:\n",
    "        c=0\n",
    "        for i in range(m):\n",
    "            for j in range(m):\n",
    "                if a[i,j]==0:\n",
    "                    c+=1\n",
    "        if c==z:\n",
    "            f.append(a)\n",
    "    \n",
    "    t = sy.Matrix.zeros(m,m)\n",
    "    for e in f:\n",
    "        t += e\n",
    "    return t"
   ]
  }
 ],
 "metadata": {
  "kernelspec": {
   "display_name": "base",
   "language": "python",
   "name": "python3"
  },
  "language_info": {
   "codemirror_mode": {
    "name": "ipython",
    "version": 3
   },
   "file_extension": ".py",
   "mimetype": "text/x-python",
   "name": "python",
   "nbconvert_exporter": "python",
   "pygments_lexer": "ipython3",
   "version": "3.9.7"
  },
  "orig_nbformat": 4,
  "vscode": {
   "interpreter": {
    "hash": "ff6029df2b53578cdeebe1c8df823e0003e7b9931ef3f9b9bdb50c9a78e368b0"
   }
  }
 },
 "nbformat": 4,
 "nbformat_minor": 2
}
