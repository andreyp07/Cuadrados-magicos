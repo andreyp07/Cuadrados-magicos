{
 "cells": [
  {
   "cell_type": "code",
   "execution_count": 23,
   "metadata": {},
   "outputs": [],
   "source": [
    "from itertools import permutations\n",
    "import sympy as sy"
   ]
  },
  {
   "attachments": {},
   "cell_type": "markdown",
   "metadata": {},
   "source": [
    "El representante principal es la suma de la lista de átomos 'discriminada positivamente'. Es decir, debemos transformar la lista a su versión positiva y solo entonces sumar esa lista. Decimos que un átomo es positivo si su primer elemento no nulo es 1. Imponemos el orden del siguiente modo: primero por el número de la columna y luego por el de la fila. \n",
    "\n",
    "El representante principal es útil para los conjuntos C que verifican que si *a* pertenece a C, entonces *-a* también pertenece a C. \n",
    "\n",
    "A continuación proporcionamos programas que calculan el representante principal de una lista de átomos cualesquiera, programas para calcular la lista de átomos de A_(4,r) y A_(5,r) explícitos y programas para calcular A_(m,r) (este último con el requisito de que el usuario introduzca A_m).\n"
   ]
  },
  {
   "attachments": {},
   "cell_type": "markdown",
   "metadata": {},
   "source": [
    "## Representante principal de lista cualquiera de átomos"
   ]
  },
  {
   "cell_type": "code",
   "execution_count": 79,
   "metadata": {},
   "outputs": [],
   "source": [
    "# VERSIÓN MATRICES SIMPY\n",
    "# En la lista L los átomos vienen en formato SIMPY\n",
    "\n",
    "def positive(atom):\n",
    "    s = sy.shape(atom)[0]\n",
    "    for row in range(s):\n",
    "        for value in range(s):\n",
    "            if atom[row,value]==1:\n",
    "                return True\n",
    "            elif atom[row,value]==-1:\n",
    "                return False\n",
    "\n",
    "\n",
    "def reduce(L):\n",
    "    r_L = []\n",
    "    for atom in L:\n",
    "        if positive(atom)==True:\n",
    "            r_L.append(atom)\n",
    "\n",
    "    return r_L\n",
    "\n"
   ]
  },
  {
   "cell_type": "code",
   "execution_count": 80,
   "metadata": {},
   "outputs": [
    {
     "name": "stdout",
     "output_type": "stream",
     "text": [
      "[Matrix([\n",
      "[ 1, -1,  0],\n",
      "[-1,  0,  1],\n",
      "[ 0,  1, -1]])]\n"
     ]
    }
   ],
   "source": [
    "# Ejemplos (no todos los elementos de las listas son átomos pero sí contienen 1's, 0's y -1's)\n",
    "\n",
    "L_2 = [sy.Matrix([[1,-1,0],[-1,0,1],[0,1,-1]]), sy.Matrix([[0,-1,0],[-1,0,1],[0,1,-1]]), sy.Matrix([[0,0,0],[-1,0,1],[0,1,-1]])]\n",
    "print(reduce(L_2))\n"
   ]
  },
  {
   "cell_type": "code",
   "execution_count": 81,
   "metadata": {},
   "outputs": [
    {
     "data": {
      "text/latex": [
       "$\\displaystyle \\left[\\begin{matrix}1 & -1 & 0\\\\-1 & 0 & 1\\\\0 & 1 & -1\\end{matrix}\\right]$"
      ],
      "text/plain": [
       "Matrix([\n",
       "[ 1, -1,  0],\n",
       "[-1,  0,  1],\n",
       "[ 0,  1, -1]])"
      ]
     },
     "execution_count": 81,
     "metadata": {},
     "output_type": "execute_result"
    }
   ],
   "source": [
    "def repres(L):\n",
    "    \"\"\"\n",
    "    L = lista de átomos; cada átomo en formato matriz simpy\n",
    "    \"\"\"\n",
    "    r_L = reduce(L)\n",
    "    r,c = sy.shape(L[0])\n",
    "    s = sy.Matrix.zeros(r,c)\n",
    "    for a in r_L:\n",
    "        s+=a\n",
    "    return s\n",
    "        "
   ]
  },
  {
   "cell_type": "code",
   "execution_count": null,
   "metadata": {},
   "outputs": [],
   "source": [
    "L_2 = [sy.Matrix([[1,-1,0],[-1,0,1],[0,1,-1]]), sy.Matrix([[0,-1,0],[-1,0,1],[0,1,-1]]), sy.Matrix([[0,0,0],[-1,0,1],[0,1,-1]])]\n",
    "repres(L_2)"
   ]
  },
  {
   "attachments": {},
   "cell_type": "markdown",
   "metadata": {},
   "source": [
    "## A_(4,r)"
   ]
  },
  {
   "cell_type": "code",
   "execution_count": 82,
   "metadata": {},
   "outputs": [],
   "source": [
    "# we calculate briefly (for a deeper explanation see ATOM_SEQUENCE) 4-atoms\n",
    "\n",
    "l_1 = [(0,0,0,0)]; l_2 = (1,-1,0,0); l_3 = (1,-1,1,-1); \n",
    "l_2 = list(set(permutations(l_2))); l_3 = list(set(permutations(l_3)))\n",
    "l = l_1 + l_2 + l_3\n",
    "v= [1,-1,0]\n",
    "\n",
    "fours = []\n",
    "a=0\n",
    "for o in l:\n",
    "    for t in l:\n",
    "        for k in l:\n",
    "            a+=1\n",
    "            #print(a/(19**3))\n",
    "            m = sy.Matrix.zeros(4,4)\n",
    "            m[0]=o;m[1]=t;m[2]=k\n",
    "            m[0,3]=-(m[3,0]+m[2,1]+m[1,2])\n",
    "            m[3,3]=-(m[0,0]+m[1,1]+m[2,2])\n",
    "            m[1,3]=-(m[1,0]+m[1,1]+m[1,2])\n",
    "            m[2,3]=-(m[2,0]+m[2,1]+m[2,2])\n",
    "            if m[0,3] in v and m[3,3] in v and m[1,3] in v and m[2,3] in v:\n",
    "                if m*sy.Matrix.ones(4,4)==sy.Matrix.zeros(4,4) and sy.Matrix.ones(4,4)*m==sy.Matrix.zeros(4,4):\n",
    "                    fours.append(m)\n"
   ]
  },
  {
   "cell_type": "code",
   "execution_count": 92,
   "metadata": {},
   "outputs": [],
   "source": [
    "r_four = reduce(fours)\n",
    "\n",
    "def four_repr(z):\n",
    "    # returns representant of list of 4-atoms with z zeros (or 16-z ones and negative ones)\n",
    "\n",
    "    f = []\n",
    "\n",
    "    for a in r_four:\n",
    "        c=0\n",
    "        for i in range(4):\n",
    "            for j in range(4):\n",
    "                if a[i,j]==0:\n",
    "                    c+=1\n",
    "        if c==z:\n",
    "            f.append(a)\n",
    "    \n",
    "    t = sy.Matrix.zeros(4,4)\n",
    "    for e in f:\n",
    "        t += e\n",
    "    return t"
   ]
  },
  {
   "cell_type": "code",
   "execution_count": 93,
   "metadata": {},
   "outputs": [
    {
     "data": {
      "text/latex": [
       "$\\displaystyle \\left[\\begin{matrix}8 & 4 & -4 & -8\\\\-2 & -6 & 6 & 2\\\\-2 & 6 & -6 & 2\\\\-4 & -4 & 4 & 4\\end{matrix}\\right]$"
      ],
      "text/plain": [
       "Matrix([\n",
       "[ 8,  4, -4, -8],\n",
       "[-2, -6,  6,  2],\n",
       "[-2,  6, -6,  2],\n",
       "[-4, -4,  4,  4]])"
      ]
     },
     "execution_count": 93,
     "metadata": {},
     "output_type": "execute_result"
    }
   ],
   "source": [
    "four_repr(6)"
   ]
  },
  {
   "attachments": {},
   "cell_type": "markdown",
   "metadata": {},
   "source": [
    "## A_(5,r)"
   ]
  },
  {
   "cell_type": "code",
   "execution_count": null,
   "metadata": {},
   "outputs": [
    {
     "name": "stdout",
     "output_type": "stream",
     "text": [
      "0.0014781526816424228\n",
      "0.0029563053632848456\n",
      "0.004434458044927268\n",
      "0.005912610726569691\n",
      "0.007390763408212114\n",
      "0.008868916089854536\n",
      "0.01034706877149696\n",
      "0.011825221453139382\n",
      "0.013303374134781805\n",
      "0.014781526816424228\n",
      "0.01625967949806665\n",
      "0.017737832179709073\n",
      "0.019215984861351496\n"
     ]
    },
    {
     "ename": "KeyboardInterrupt",
     "evalue": "",
     "output_type": "error",
     "traceback": [
      "\u001b[0;31m---------------------------------------------------------------------------\u001b[0m\n",
      "\u001b[0;31mKeyboardInterrupt\u001b[0m                         Traceback (most recent call last)\n",
      "\u001b[0;32m/var/folders/sj/x62602bd2_zdh_nbx_brkqlm0000gn/T/ipykernel_35159/4011763055.py\u001b[0m in \u001b[0;36m<module>\u001b[0;34m\u001b[0m\n",
      "\u001b[1;32m     14\u001b[0m                     \u001b[0mprint\u001b[0m\u001b[0;34m(\u001b[0m\u001b[0ma\u001b[0m\u001b[0;34m/\u001b[0m\u001b[0;34m(\u001b[0m\u001b[0;36m51\u001b[0m\u001b[0;34m**\u001b[0m\u001b[0;36m4\u001b[0m\u001b[0;34m)\u001b[0m\u001b[0;34m)\u001b[0m\u001b[0;34m\u001b[0m\u001b[0;34m\u001b[0m\u001b[0m\n",
      "\u001b[1;32m     15\u001b[0m                 \u001b[0mm\u001b[0m \u001b[0;34m=\u001b[0m \u001b[0msy\u001b[0m\u001b[0;34m.\u001b[0m\u001b[0mMatrix\u001b[0m\u001b[0;34m.\u001b[0m\u001b[0mzeros\u001b[0m\u001b[0;34m(\u001b[0m\u001b[0;36m5\u001b[0m\u001b[0;34m,\u001b[0m\u001b[0;36m5\u001b[0m\u001b[0;34m)\u001b[0m\u001b[0;34m\u001b[0m\u001b[0;34m\u001b[0m\u001b[0m\n",
      "\u001b[0;32m---> 16\u001b[0;31m                 \u001b[0mm\u001b[0m\u001b[0;34m[\u001b[0m\u001b[0;36m0\u001b[0m\u001b[0;34m]\u001b[0m\u001b[0;34m=\u001b[0m\u001b[0mo\u001b[0m\u001b[0;34m;\u001b[0m\u001b[0mm\u001b[0m\u001b[0;34m[\u001b[0m\u001b[0;36m1\u001b[0m\u001b[0;34m]\u001b[0m\u001b[0;34m=\u001b[0m\u001b[0mt\u001b[0m\u001b[0;34m;\u001b[0m\u001b[0mm\u001b[0m\u001b[0;34m[\u001b[0m\u001b[0;36m2\u001b[0m\u001b[0;34m]\u001b[0m\u001b[0;34m=\u001b[0m\u001b[0mk\u001b[0m\u001b[0;34m;\u001b[0m\u001b[0mm\u001b[0m\u001b[0;34m[\u001b[0m\u001b[0;36m3\u001b[0m\u001b[0;34m]\u001b[0m\u001b[0;34m=\u001b[0m\u001b[0mp\u001b[0m\u001b[0;34m\u001b[0m\u001b[0;34m\u001b[0m\u001b[0m\n",
      "\u001b[0m\u001b[1;32m     17\u001b[0m                 \u001b[0mm\u001b[0m\u001b[0;34m[\u001b[0m\u001b[0;36m0\u001b[0m\u001b[0;34m,\u001b[0m\u001b[0;36m4\u001b[0m\u001b[0;34m]\u001b[0m\u001b[0;34m=\u001b[0m\u001b[0;34m-\u001b[0m\u001b[0;34m(\u001b[0m\u001b[0mm\u001b[0m\u001b[0;34m[\u001b[0m\u001b[0;36m4\u001b[0m\u001b[0;34m,\u001b[0m\u001b[0;36m0\u001b[0m\u001b[0;34m]\u001b[0m\u001b[0;34m+\u001b[0m\u001b[0mm\u001b[0m\u001b[0;34m[\u001b[0m\u001b[0;36m3\u001b[0m\u001b[0;34m,\u001b[0m\u001b[0;36m1\u001b[0m\u001b[0;34m]\u001b[0m\u001b[0;34m+\u001b[0m\u001b[0mm\u001b[0m\u001b[0;34m[\u001b[0m\u001b[0;36m2\u001b[0m\u001b[0;34m,\u001b[0m\u001b[0;36m2\u001b[0m\u001b[0;34m]\u001b[0m\u001b[0;34m+\u001b[0m\u001b[0mm\u001b[0m\u001b[0;34m[\u001b[0m\u001b[0;36m1\u001b[0m\u001b[0;34m,\u001b[0m\u001b[0;36m3\u001b[0m\u001b[0;34m]\u001b[0m\u001b[0;34m)\u001b[0m\u001b[0;34m\u001b[0m\u001b[0;34m\u001b[0m\u001b[0m\n",
      "\u001b[1;32m     18\u001b[0m                 \u001b[0mm\u001b[0m\u001b[0;34m[\u001b[0m\u001b[0;36m4\u001b[0m\u001b[0;34m,\u001b[0m\u001b[0;36m4\u001b[0m\u001b[0;34m]\u001b[0m\u001b[0;34m=\u001b[0m\u001b[0;34m-\u001b[0m\u001b[0;34m(\u001b[0m\u001b[0mm\u001b[0m\u001b[0;34m[\u001b[0m\u001b[0;36m0\u001b[0m\u001b[0;34m,\u001b[0m\u001b[0;36m0\u001b[0m\u001b[0;34m]\u001b[0m\u001b[0;34m+\u001b[0m\u001b[0mm\u001b[0m\u001b[0;34m[\u001b[0m\u001b[0;36m1\u001b[0m\u001b[0;34m,\u001b[0m\u001b[0;36m1\u001b[0m\u001b[0;34m]\u001b[0m\u001b[0;34m+\u001b[0m\u001b[0mm\u001b[0m\u001b[0;34m[\u001b[0m\u001b[0;36m2\u001b[0m\u001b[0;34m,\u001b[0m\u001b[0;36m2\u001b[0m\u001b[0;34m]\u001b[0m\u001b[0;34m+\u001b[0m\u001b[0mm\u001b[0m\u001b[0;34m[\u001b[0m\u001b[0;36m3\u001b[0m\u001b[0;34m,\u001b[0m\u001b[0;36m3\u001b[0m\u001b[0;34m]\u001b[0m\u001b[0;34m)\u001b[0m\u001b[0;34m\u001b[0m\u001b[0;34m\u001b[0m\u001b[0m\n",
      "\n",
      "\u001b[0;32m~/opt/anaconda3/lib/python3.9/site-packages/sympy/matrices/repmatrix.py\u001b[0m in \u001b[0;36m__setitem__\u001b[0;34m(self, key, value)\u001b[0m\n",
      "\u001b[1;32m    386\u001b[0m         [2, 2, 4, 2]])\n",
      "\u001b[1;32m    387\u001b[0m         \"\"\"\n",
      "\u001b[0;32m--> 388\u001b[0;31m         \u001b[0mrv\u001b[0m \u001b[0;34m=\u001b[0m \u001b[0mself\u001b[0m\u001b[0;34m.\u001b[0m\u001b[0m_setitem\u001b[0m\u001b[0;34m(\u001b[0m\u001b[0mkey\u001b[0m\u001b[0;34m,\u001b[0m \u001b[0mvalue\u001b[0m\u001b[0;34m)\u001b[0m\u001b[0;34m\u001b[0m\u001b[0;34m\u001b[0m\u001b[0m\n",
      "\u001b[0m\u001b[1;32m    389\u001b[0m         \u001b[0;32mif\u001b[0m \u001b[0mrv\u001b[0m \u001b[0;32mis\u001b[0m \u001b[0;32mnot\u001b[0m \u001b[0;32mNone\u001b[0m\u001b[0;34m:\u001b[0m\u001b[0;34m\u001b[0m\u001b[0;34m\u001b[0m\u001b[0m\n",
      "\u001b[1;32m    390\u001b[0m             \u001b[0mi\u001b[0m\u001b[0;34m,\u001b[0m \u001b[0mj\u001b[0m\u001b[0;34m,\u001b[0m \u001b[0mvalue\u001b[0m \u001b[0;34m=\u001b[0m \u001b[0mrv\u001b[0m\u001b[0;34m\u001b[0m\u001b[0;34m\u001b[0m\u001b[0m\n",
      "\n",
      "\u001b[0;32m~/opt/anaconda3/lib/python3.9/site-packages/sympy/matrices/matrices.py\u001b[0m in \u001b[0;36m_setitem\u001b[0;34m(self, key, value)\u001b[0m\n",
      "\u001b[1;32m   1214\u001b[0m                     key = (slice(i, i + value.rows),\n",
      "\u001b[1;32m   1215\u001b[0m                            slice(j, j + value.cols))\n",
      "\u001b[0;32m-> 1216\u001b[0;31m                 \u001b[0mself\u001b[0m\u001b[0;34m.\u001b[0m\u001b[0mcopyin_matrix\u001b[0m\u001b[0;34m(\u001b[0m\u001b[0mkey\u001b[0m\u001b[0;34m,\u001b[0m \u001b[0mvalue\u001b[0m\u001b[0;34m)\u001b[0m\u001b[0;34m\u001b[0m\u001b[0;34m\u001b[0m\u001b[0m\n",
      "\u001b[0m\u001b[1;32m   1217\u001b[0m             \u001b[0;32melse\u001b[0m\u001b[0;34m:\u001b[0m\u001b[0;34m\u001b[0m\u001b[0;34m\u001b[0m\u001b[0m\n",
      "\u001b[1;32m   1218\u001b[0m                 \u001b[0;32mreturn\u001b[0m \u001b[0mi\u001b[0m\u001b[0;34m,\u001b[0m \u001b[0mj\u001b[0m\u001b[0;34m,\u001b[0m \u001b[0mself\u001b[0m\u001b[0;34m.\u001b[0m\u001b[0m_sympify\u001b[0m\u001b[0;34m(\u001b[0m\u001b[0mvalue\u001b[0m\u001b[0;34m)\u001b[0m\u001b[0;34m\u001b[0m\u001b[0;34m\u001b[0m\u001b[0m\n",
      "\n",
      "\u001b[0;32m~/opt/anaconda3/lib/python3.9/site-packages/sympy/matrices/repmatrix.py\u001b[0m in \u001b[0;36mcopyin_matrix\u001b[0;34m(self, key, value)\u001b[0m\n",
      "\u001b[1;32m    617\u001b[0m \u001b[0;34m\u001b[0m\u001b[0m\n",
      "\u001b[1;32m    618\u001b[0m         \u001b[0;32mfor\u001b[0m \u001b[0mi\u001b[0m \u001b[0;32min\u001b[0m \u001b[0mrange\u001b[0m\u001b[0;34m(\u001b[0m\u001b[0mvalue\u001b[0m\u001b[0;34m.\u001b[0m\u001b[0mrows\u001b[0m\u001b[0;34m)\u001b[0m\u001b[0;34m:\u001b[0m\u001b[0;34m\u001b[0m\u001b[0;34m\u001b[0m\u001b[0m\n",
      "\u001b[0;32m--> 619\u001b[0;31m             \u001b[0;32mfor\u001b[0m \u001b[0mj\u001b[0m \u001b[0;32min\u001b[0m \u001b[0mrange\u001b[0m\u001b[0;34m(\u001b[0m\u001b[0mvalue\u001b[0m\u001b[0;34m.\u001b[0m\u001b[0mcols\u001b[0m\u001b[0;34m)\u001b[0m\u001b[0;34m:\u001b[0m\u001b[0;34m\u001b[0m\u001b[0;34m\u001b[0m\u001b[0m\n",
      "\u001b[0m\u001b[1;32m    620\u001b[0m                 \u001b[0mself\u001b[0m\u001b[0;34m[\u001b[0m\u001b[0mi\u001b[0m \u001b[0;34m+\u001b[0m \u001b[0mrlo\u001b[0m\u001b[0;34m,\u001b[0m \u001b[0mj\u001b[0m \u001b[0;34m+\u001b[0m \u001b[0mclo\u001b[0m\u001b[0;34m]\u001b[0m \u001b[0;34m=\u001b[0m \u001b[0mvalue\u001b[0m\u001b[0;34m[\u001b[0m\u001b[0mi\u001b[0m\u001b[0;34m,\u001b[0m \u001b[0mj\u001b[0m\u001b[0;34m]\u001b[0m\u001b[0;34m\u001b[0m\u001b[0;34m\u001b[0m\u001b[0m\n",
      "\u001b[1;32m    621\u001b[0m \u001b[0;34m\u001b[0m\u001b[0m\n",
      "\n",
      "\u001b[0;31mKeyboardInterrupt\u001b[0m: "
     ]
    }
   ],
   "source": [
    "# calculamos brevemente los 5-átomos (en más profundidad en ATOM_SEQUENCE)\n",
    "\n",
    "l_1 = [(0,0,0,0,0)]; l_2 = (1,-1,0,0,0); l_3 = (1,-1,1,-1,0); \n",
    "l_2 = list(set(permutations(l_2))); l_3 = list(set(permutations(l_3)))\n",
    "l = l_1 + l_2 + l_3\n",
    "v= [1,-1,0]\n",
    "\n",
    "fifs = []\n",
    "a=0\n",
    "for o in l:\n",
    "    for t in l:\n",
    "        for k in l:\n",
    "            for p in l:\n",
    "                a+=1\n",
    "                if a%10000 == 0:\n",
    "                    print(a/(51**4))\n",
    "                m = sy.Matrix.zeros(5,5)\n",
    "                m[0]=o;m[1]=t;m[2]=k;m[3]=p\n",
    "                m[0,4]=-(m[4,0]+m[3,1]+m[2,2]+m[1,3])\n",
    "                m[4,4]=-(m[0,0]+m[1,1]+m[2,2]+m[3,3])\n",
    "                m[1,4]=-(m[1,0]+m[1,1]+m[1,2]+m[1,3])\n",
    "                m[2,4]=-(m[2,0]+m[2,1]+m[2,2]+m[2,3])\n",
    "                m[3,4]=-(m[3,0]+m[3,1]+m[3,2]+m[3,3])\n",
    "                if m[0,4] in v and m[4,4] in v and m[2,4] in v and m[1,4] in v and m[3,4] in v:\n",
    "                    if m*sy.Matrix.ones(5,5)==sy.Matrix.zeros(5,5) and sy.Matrix.ones(5,5)*m==sy.Matrix.zeros(5,5):\n",
    "                        fifs.append(m)\n"
   ]
  },
  {
   "cell_type": "code",
   "execution_count": null,
   "metadata": {},
   "outputs": [],
   "source": [
    "r_fifs = reduce(fifs)\n",
    "\n",
    "def five_repr(z):\n",
    "    # returns representant of list of 5-atoms with z zeros (or 25-z ones and negative ones)\n",
    "\n",
    "    f = []\n",
    "\n",
    "    for a in r_fifs:\n",
    "        c=0\n",
    "        for i in range(5):\n",
    "            for j in range(5):\n",
    "                if a[i,j]==0:\n",
    "                    c+=1\n",
    "        if c==z:\n",
    "            f.append(a)\n",
    "    \n",
    "    t = sy.Matrix.zeros(5,5)\n",
    "    for e in f:\n",
    "        t += e\n",
    "    return t\n",
    "\n"
   ]
  },
  {
   "cell_type": "code",
   "execution_count": null,
   "metadata": {},
   "outputs": [
    {
     "data": {
      "text/latex": [
       "$\\displaystyle \\left[\\begin{matrix}208 & 33 & -85 & -81 & -75\\\\-55 & -84 & 24 & 76 & 39\\\\-61 & -6 & -15 & 27 & 55\\\\-55 & 51 & 26 & -56 & 34\\\\-37 & 6 & 50 & 34 & -53\\end{matrix}\\right]$"
      ],
      "text/plain": [
       "Matrix([\n",
       "[208,  33, -85, -81, -75],\n",
       "[-55, -84,  24,  76,  39],\n",
       "[-61,  -6, -15,  27,  55],\n",
       "[-55,  51,  26, -56,  34],\n",
       "[-37,   6,  50,  34, -53]])"
      ]
     },
     "metadata": {},
     "output_type": "display_data"
    }
   ],
   "source": [
    "five_repr(5)/2"
   ]
  },
  {
   "attachments": {},
   "cell_type": "markdown",
   "metadata": {},
   "source": [
    "## A_(m,r)"
   ]
  },
  {
   "cell_type": "code",
   "execution_count": null,
   "metadata": {},
   "outputs": [],
   "source": [
    "def m_repr(A_m, z):\n",
    "    # returns representant of list of m-atoms with z zeros (or 16-z ones and negative ones)\n",
    "\n",
    "    r_ms = reduce(A_m)\n",
    "\n",
    "    f = []\n",
    "    for a in r_ms:\n",
    "        c=0\n",
    "        for i in range(m):\n",
    "            for j in range(m):\n",
    "                if a[i,j]==0:\n",
    "                    c+=1\n",
    "        if c==z:\n",
    "            f.append(a)\n",
    "    \n",
    "    t = sy.Matrix.zeros(m,m)\n",
    "    for e in f:\n",
    "        t += e\n",
    "    return t"
   ]
  }
 ],
 "metadata": {
  "kernelspec": {
   "display_name": "base",
   "language": "python",
   "name": "python3"
  },
  "language_info": {
   "codemirror_mode": {
    "name": "ipython",
    "version": 3
   },
   "file_extension": ".py",
   "mimetype": "text/x-python",
   "name": "python",
   "nbconvert_exporter": "python",
   "pygments_lexer": "ipython3",
   "version": "3.9.7"
  },
  "orig_nbformat": 4,
  "vscode": {
   "interpreter": {
    "hash": "ff6029df2b53578cdeebe1c8df823e0003e7b9931ef3f9b9bdb50c9a78e368b0"
   }
  }
 },
 "nbformat": 4,
 "nbformat_minor": 2
}
